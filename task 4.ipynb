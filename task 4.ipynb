{
 "cells": [
  {
   "cell_type": "markdown",
   "id": "03a570fa",
   "metadata": {},
   "source": [
    "NAME        FATIMA AKBAR\n",
    "ROLL NO      072\n",
    "TASK NO      04\n",
    "CLASS        BSDS(3A)"
   ]
  },
  {
   "cell_type": "markdown",
   "id": "d08840bd",
   "metadata": {},
   "source": [
    "Task 1: LUHN Algorithm"
   ]
  },
  {
   "cell_type": "code",
   "execution_count": null,
   "id": "243a3b6e",
   "metadata": {},
   "outputs": [
    {
     "name": "stdout",
     "output_type": "stream",
     "text": [
      "Card Number: 5893804115457289\n",
      "✅ Valid Card Number\n"
     ]
    }
   ],
   "source": [
    "def luhn_algorithm(card_number):\n",
    " \n",
    "    digits = [int(d) for d in str(card_number)]\n",
    "    check_digit = digits.pop()\n",
    "    digits.reverse()\n",
    "\n",
    "    total_sum = 0\n",
    "    for i in range(len(digits)):\n",
    "        num = digits[i]\n",
    "       \n",
    "        if i % 2 == 0:\n",
    "            num *= 2\n",
    "            if num > 9:  \n",
    "                num -= 9\n",
    "        total_sum += num\n",
    "    \n",
    "    total_sum += check_digit\n",
    "    if total_sum % 10 == 0:\n",
    "        return True\n",
    "    else:\n",
    "        return False\n",
    "\n",
    "card = 5893804115457289\n",
    "print(\"Card Number:\", card)\n",
    "if luhn_algorithm(card):\n",
    "    print(\"Valid Card Number\")\n",
    "else:\n",
    "    print(\"Invalid Card Number\")\n"
   ]
  },
  {
   "cell_type": "markdown",
   "id": "4f7ffebe",
   "metadata": {},
   "source": [
    "Task 2: Remove Punctuations"
   ]
  },
  {
   "cell_type": "code",
   "execution_count": null,
   "id": "af030b4f",
   "metadata": {},
   "outputs": [
    {
     "name": "stdout",
     "output_type": "stream",
     "text": [
      "Original Text: Hello!!! How's, everything going?? :)\n",
      "Cleaned Text: Hello Hows everything going \n"
     ]
    }
   ],
   "source": [
    "def remove_punctuations(text):\n",
    "    result = \"\"\n",
    "    for ch in text:\n",
    "        if ch.isalnum() or ch == \" \":\n",
    "            result += ch\n",
    "    return result\n",
    "\n",
    "sample_text = \"Hello!!! How's, everything going?? :)\"\n",
    "print(\"Original Text:\", sample_text)\n",
    "print(\"Cleaned Text:\", remove_punctuations(sample_text))"
   ]
  },
  {
   "cell_type": "markdown",
   "id": "6a740e70",
   "metadata": {},
   "source": [
    "Task 3: Sort Sentence in Alphabetical Order"
   ]
  },
  {
   "cell_type": "code",
   "execution_count": null,
   "id": "7227a52d",
   "metadata": {},
   "outputs": [
    {
     "name": "stdout",
     "output_type": "stream",
     "text": [
      "Original Sentence: python is a very powerful and popular language\n",
      "Sorted Sentence: a and is language popular powerful python very\n"
     ]
    }
   ],
   "source": [
    "def sort_sentence(sentence):\n",
    "    words = sentence.split()\n",
    "    words.sort()\n",
    "\n",
    "    return \" \".join(words)\n",
    "\n",
    "sentence = \"python is a very powerful and popular language\"\n",
    "print(\"Original Sentence:\", sentence)\n",
    "print(\"Sorted Sentence:\", sort_sentence(sentence))"
   ]
  }
 ],
 "metadata": {
  "kernelspec": {
   "display_name": "base",
   "language": "python",
   "name": "python3"
  },
  "language_info": {
   "codemirror_mode": {
    "name": "ipython",
    "version": 3
   },
   "file_extension": ".py",
   "mimetype": "text/x-python",
   "name": "python",
   "nbconvert_exporter": "python",
   "pygments_lexer": "ipython3",
   "version": "3.12.7"
  }
 },
 "nbformat": 4,
 "nbformat_minor": 5
}
