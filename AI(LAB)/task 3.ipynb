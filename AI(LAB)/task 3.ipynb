{
 "cells": [
  {
   "cell_type": "code",
   "execution_count": 1,
   "id": "aade67f6",
   "metadata": {},
   "outputs": [
    {
     "name": "stdout",
     "output_type": "stream",
     "text": [
      "Living room:\t30 => Action: Turn off the Heater\n",
      "Drawing room:\t24 => Action: No action needed\n",
      "Bed room:\t16 => Action: Turn on the Heater\n",
      "Kitchen:\t34 => Action: Turn off the Heater\n"
     ]
    }
   ],
   "source": [
    "class ModelBasedReflexAgent:\n",
    "    def __init__(self ,temp):\n",
    "        self.fixed_temp = temp\n",
    "        self.previous_action = None\n",
    "    def sensor(self ,temp):\n",
    "        self.current_temp = temp\n",
    "    def performance(self):\n",
    "        if self.current_temp >  self.fixed_temp :\n",
    "            action = \"Turn off the Heater\"\n",
    "        else :\n",
    "            action = \"Turn on the Heater\"\n",
    "            # Avoid unnesscary switching\n",
    "        if action == self.previous_action:\n",
    "                action = \"No action needed\"\n",
    "        else:\n",
    "                self.previous_action = action\n",
    "        return action\n",
    "    def actuator (self):\n",
    "        action = self.performance()\n",
    "        print(self.current_temp , \"=> Action:\" , action) \n",
    "agent = ModelBasedReflexAgent(18)\n",
    "rooms ={\n",
    "    \"Living room\": 30,\n",
    "    \"Drawing room\" :24,\n",
    "    \"Bed room\":16,\n",
    "    \"Kitchen\": 34,\n",
    "    }\n",
    "for room, temp in rooms.items():\n",
    "    print(room, end=\":\\t\")\n",
    "    agent.sensor(temp)\n",
    "    agent.actuator()"
   ]
  }
 ],
 "metadata": {
  "kernelspec": {
   "display_name": "base",
   "language": "python",
   "name": "python3"
  },
  "language_info": {
   "codemirror_mode": {
    "name": "ipython",
    "version": 3
   },
   "file_extension": ".py",
   "mimetype": "text/x-python",
   "name": "python",
   "nbconvert_exporter": "python",
   "pygments_lexer": "ipython3",
   "version": "3.12.7"
  }
 },
 "nbformat": 4,
 "nbformat_minor": 5
}
