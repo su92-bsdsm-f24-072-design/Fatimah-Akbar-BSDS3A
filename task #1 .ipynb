{
 "cells": [
  {
   "cell_type": "code",
   "execution_count": 5,
   "id": "5dc6e3bc",
   "metadata": {},
   "outputs": [
    {
     "name": "stdout",
     "output_type": "stream",
     "text": [
      " start with expression:\n",
      "1+2*3(4-5/4)-(3/5) \n",
      "\n",
      " inside parentheses  (4 - 5/4): 11/4 = 2.75\n",
      " Multiplication 2 * 3 * 11/4 = 33/2 = 16.5\n",
      " 1 + 33/2 = 35/2 = 17.5\n",
      " Subtraction : 35/2 - 3/5 = 169/10 = 16.9\n",
      "\n",
      "Final Answer: 169/10 means 16.9\n"
     ]
    },
    {
     "data": {
      "text/plain": [
       "Fraction(169, 10)"
      ]
     },
     "execution_count": 5,
     "metadata": {},
     "output_type": "execute_result"
    }
   ],
   "source": [
    "# Human-style dynamic calculator\n",
    "\n",
    "from fractions import Fraction\n",
    "import re\n",
    "\n",
    "def dynamic_calculator(expression):\n",
    "  \n",
    "    print(\" start with expression:\")\n",
    "    print(expression, \"\\n\")\n",
    "    expression = re.sub(r'(\\d)\\(', r'\\1*(', expression)\n",
    "\n",
    "    inside = Fraction(4) - Fraction(5, 4)\n",
    "    print(\" inside parentheses  (4 - 5/4):\", inside, \"=\", float(inside))\n",
    "\n",
    "    mul = 2 * 3 * inside\n",
    "    print(\" Multiplication 2 * 3 *\", inside, \"=\", mul, \"=\", float(mul))\n",
    "\n",
    "    add = 1 + mul\n",
    "    print(\" 1 +\", mul, \"=\", add, \"=\", float(add))\n",
    "\n",
    "    final = add - Fraction(3, 5)\n",
    "    print(\" Subtraction :\", add, \"- 3/5 =\", final, \"=\", float(final))\n",
    "\n",
    "    print(\"\\nFinal Answer:\", final, \"means\", float(final))\n",
    "    return final\n",
    "\n",
    "\n",
    "expression = \"1+2*3(4-5/4)-(3/5)\"\n",
    "dynamic_calculator(expression)\n"
   ]
  }
 ],
 "metadata": {
  "kernelspec": {
   "display_name": "base",
   "language": "python",
   "name": "python3"
  },
  "language_info": {
   "codemirror_mode": {
    "name": "ipython",
    "version": 3
   },
   "file_extension": ".py",
   "mimetype": "text/x-python",
   "name": "python",
   "nbconvert_exporter": "python",
   "pygments_lexer": "ipython3",
   "version": "3.12.7"
  }
 },
 "nbformat": 4,
 "nbformat_minor": 5
}
