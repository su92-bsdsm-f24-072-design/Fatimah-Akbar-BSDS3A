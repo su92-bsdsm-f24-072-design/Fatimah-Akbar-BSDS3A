{
 "cells": [
  {
   "cell_type": "markdown",
   "id": "f3f1ae79",
   "metadata": {},
   "source": [
    "NAME         FATIMA AKBAR\n",
    "ROLL NO      072\n",
    "TASK NO      06\n",
    "CLASS        BSDS(3A)"
   ]
  },
  {
   "cell_type": "markdown",
   "id": "3a12f106",
   "metadata": {},
   "source": [
    "BFS without Queue & without Node:"
   ]
  },
  {
   "cell_type": "code",
   "execution_count": 1,
   "id": "08b6e82a",
   "metadata": {},
   "outputs": [
    {
     "name": "stdout",
     "output_type": "stream",
     "text": [
      "BFS without Queue:\n",
      "A B C D E F G "
     ]
    }
   ],
   "source": [
    "tree = {\n",
    "    'A': ['B', 'C'],\n",
    "    'B': ['D', 'E'],\n",
    "    'C': ['F', 'G'],\n",
    "    'D': [None, None],\n",
    "    'E': [None, None],\n",
    "    'F': [None, None],\n",
    "    'G': [None, None]\n",
    "}\n",
    "\n",
    "def print_level(tree, node, level):\n",
    "    if node is None:\n",
    "        return\n",
    "    if level == 1:\n",
    "        print(node, end=\" \")\n",
    "    elif level > 1:\n",
    "        print_level(tree, tree[node][0], level - 1)\n",
    "        print_level(tree, tree[node][1], level - 1)\n",
    "\n",
    "def height(tree, node):\n",
    "    if node is None:\n",
    "        return 0\n",
    "    left_h = height(tree, tree[node][0])\n",
    "    right_h = height(tree, tree[node][1])\n",
    "    return max(left_h, right_h) + 1\n",
    "\n",
    "def bfs_without_queue(tree, root):\n",
    "    h = height(tree, root)\n",
    "    for i in range(1, h + 1):\n",
    "        print_level(tree, root, i)\n",
    "\n",
    "print(\"BFS without Queue:\")\n",
    "bfs_without_queue(tree, 'A')"
   ]
  },
  {
   "cell_type": "markdown",
   "id": "a1942b0f",
   "metadata": {},
   "source": [
    "BFS with Queue:"
   ]
  },
  {
   "cell_type": "code",
   "execution_count": 2,
   "id": "f3bc1004",
   "metadata": {},
   "outputs": [
    {
     "name": "stdout",
     "output_type": "stream",
     "text": [
      "\n",
      "BFS with Queue:\n",
      "A B C D E F G "
     ]
    }
   ],
   "source": [
    "# BFS using Queue\n",
    "def bfs_with_queue(tree, root):\n",
    "    queue = [root]   \n",
    "    while queue:\n",
    "        node = queue.pop(0)  \n",
    "        print(node, end=\" \")\n",
    "        if tree[node][0]:\n",
    "            queue.append(tree[node][0])\n",
    "        if tree[node][1]:\n",
    "            queue.append(tree[node][1])\n",
    "\n",
    "print(\"\\nBFS with Queue:\")\n",
    "bfs_with_queue(tree, 'A')"
   ]
  }
 ],
 "metadata": {
  "kernelspec": {
   "display_name": "base",
   "language": "python",
   "name": "python3"
  },
  "language_info": {
   "codemirror_mode": {
    "name": "ipython",
    "version": 3
   },
   "file_extension": ".py",
   "mimetype": "text/x-python",
   "name": "python",
   "nbconvert_exporter": "python",
   "pygments_lexer": "ipython3",
   "version": "3.12.7"
  }
 },
 "nbformat": 4,
 "nbformat_minor": 5
}
