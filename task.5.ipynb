{
 "cells": [
  {
   "cell_type": "markdown",
   "id": "db60c698",
   "metadata": {},
   "source": [
    "DFS with Stack:"
   ]
  },
  {
   "cell_type": "code",
   "execution_count": 1,
   "id": "414e1194",
   "metadata": {},
   "outputs": [
    {
     "name": "stdout",
     "output_type": "stream",
     "text": [
      "DFS using Stack:\n",
      "A B D E F C "
     ]
    }
   ],
   "source": [
    "graph = {\n",
    "    'A': ['B', 'C'],\n",
    "    'B': ['D', 'E'],\n",
    "    'C': ['F'],\n",
    "    'D': [],\n",
    "    'E': ['F'],\n",
    "    'F': []\n",
    "}\n",
    "\n",
    "def dfs_stack(graph, start):\n",
    "    visited = set()\n",
    "    stack = [start] \n",
    "    \n",
    "    while stack:\n",
    "        node = stack.pop()  \n",
    "        if node not in visited:\n",
    "            print(node, end=\" \") \n",
    "            visited.add(node)\n",
    "            stack.extend(reversed(graph[node]))\n",
    "\n",
    "print(\"DFS using Stack:\")\n",
    "dfs_stack(graph, 'A')"
   ]
  },
  {
   "cell_type": "markdown",
   "id": "b1513335",
   "metadata": {},
   "source": [
    "Implementation in Python:"
   ]
  },
  {
   "cell_type": "code",
   "execution_count": 4,
   "id": "33ebf6c0",
   "metadata": {},
   "outputs": [
    {
     "name": "stdout",
     "output_type": "stream",
     "text": [
      "Inorder Traversal:\n",
      "D B E A C \n",
      "Preorder Traversal:\n",
      "A B D E C \n",
      "Postorder Traversal:\n",
      "D E B C A "
     ]
    }
   ],
   "source": [
    "tree = {\n",
    "    'A': ['B', 'C'],\n",
    "    'B': ['D', 'E'],\n",
    "    'C': [None, None],\n",
    "    'D': [None, None],\n",
    "    'E': [None, None]\n",
    "}\n",
    "\n",
    "def inorder(tree, node):\n",
    "    if node and node in tree:\n",
    "        inorder(tree, tree[node][0])\n",
    "        print(node, end=\" \")\n",
    "        inorder(tree, tree[node][1])\n",
    "\n",
    "def preorder(tree, node):\n",
    "    if node and node in tree:\n",
    "        print(node, end=\" \")\n",
    "        preorder(tree, tree[node][0])\n",
    "        preorder(tree, tree[node][1])\n",
    "\n",
    "def postorder(tree, node):\n",
    "    if node and node in tree:\n",
    "        postorder(tree, tree[node][0])\n",
    "        postorder(tree, tree[node][1])\n",
    "        print(node, end=\" \")\n",
    "\n",
    "print(\"Inorder Traversal:\")\n",
    "inorder(tree, 'A')\n",
    "\n",
    "print(\"\\nPreorder Traversal:\")\n",
    "preorder(tree, 'A')\n",
    "\n",
    "print(\"\\nPostorder Traversal:\")\n",
    "postorder(tree, 'A')\n"
   ]
  },
  {
   "cell_type": "code",
   "execution_count": null,
   "id": "5c16bdb7",
   "metadata": {},
   "outputs": [],
   "source": []
  }
 ],
 "metadata": {
  "kernelspec": {
   "display_name": "base",
   "language": "python",
   "name": "python3"
  },
  "language_info": {
   "codemirror_mode": {
    "name": "ipython",
    "version": 3
   },
   "file_extension": ".py",
   "mimetype": "text/x-python",
   "name": "python",
   "nbconvert_exporter": "python",
   "pygments_lexer": "ipython3",
   "version": "3.12.7"
  }
 },
 "nbformat": 4,
 "nbformat_minor": 5
}
